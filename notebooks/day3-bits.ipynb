{
 "cells": [
  {
   "cell_type": "markdown",
   "id": "7072b292",
   "metadata": {},
   "source": [
    "## Битовые операции"
   ]
  },
  {
   "cell_type": "markdown",
   "id": "c5461a57",
   "metadata": {},
   "source": [
    "Выполните следующую ячейку (Shift-Enter) перед выполнением задания."
   ]
  },
  {
   "cell_type": "code",
   "execution_count": 7,
   "id": "9fc2ec66",
   "metadata": {},
   "outputs": [],
   "source": [
    "#include <stdio.h>\n",
    "\n",
    "void test(int a, int b){\n",
    "    if(a==b)\n",
    "        printf(\" OK \");\n",
    "    else\n",
    "        printf(\"  X \");\n",
    "    printf(\"Получено: %d Ожидалось: %d\\n\", a, b);\n",
    "}"
   ]
  },
  {
   "cell_type": "markdown",
   "id": "1becbd78",
   "metadata": {},
   "source": [
    "### A. manul"
   ]
  },
  {
   "cell_type": "markdown",
   "id": "ad664712",
   "metadata": {},
   "source": [
    "Байтландские учёрые установили, что полосатые хвосты манулов содержат своеобразный штрих-код, и закодировали манулов по полосам на хвостах 32-битными числами. Более тёмная полоса - 1, более светлая - 0.\n",
    "\n",
    "В результате генетических экспериментов у манула k-я полоса на хвосте стала тёмной (возможно, она такой и была). Задан код манула до изменения a. Вычислить новый код манула после экспериментов.\n",
    "\n",
    "Формат ввода\n",
    "Входные данные содержат два целых числа a и n (0 ≤ a ≤ 1018, 1 ≤ k ≤ 32) — код манула и номер полосы, которая стала тёмной (заметим, что байтландские учёные плохо учили Си в олимпиадных школах и поэтому биты нумеруют с единицы).\n",
    "\n",
    "Формат вывода\n",
    "Выведите одно число — новый код манула.\n",
    "\n",
    "Например,\n",
    "\n",
    "`manul(6, 1) -> 7`  \n",
    "`manul(6, 2) -> 6`"
   ]
  },
  {
   "cell_type": "code",
   "execution_count": 1,
   "id": "13aebe23",
   "metadata": {},
   "outputs": [],
   "source": [
    "int manul(int a, int k){\n",
    "    return 0;\n",
    "}"
   ]
  },
  {
   "cell_type": "code",
   "execution_count": 3,
   "id": "23cd68f1",
   "metadata": {},
   "outputs": [
    {
     "data": {
      "text/plain": [
       "6"
      ]
     },
     "execution_count": 3,
     "metadata": {},
     "output_type": "execute_result"
    }
   ],
   "source": [
    "test(manul(6, 1), 7);\n",
    "test(manul(6, 2), 6);\n",
    "test(manul(235, 5), 251);"
   ]
  },
  {
   "cell_type": "markdown",
   "id": "49d4503c",
   "metadata": {},
   "source": [
    "### B. invert"
   ]
  },
  {
   "cell_type": "markdown",
   "id": "dc1ec923",
   "metadata": {},
   "source": [
    "Напишите программу, которая инвертирует бит `k` в заданном числе `a` (биты при этом нумеруются с 0, начиная с младших)."
   ]
  },
  {
   "cell_type": "code",
   "execution_count": 56,
   "id": "fdf2f3b4",
   "metadata": {},
   "outputs": [],
   "source": [
    "int invert(int a, int k){\n",
    "    return 0;\n",
    "}"
   ]
  },
  {
   "cell_type": "code",
   "execution_count": 59,
   "id": "c1e2420f",
   "metadata": {},
   "outputs": [
    {
     "name": "stdout",
     "output_type": "stream",
     "text": [
      " OK Получено: 7 Ожидалось: 7\n",
      " OK Получено: 1 Ожидалось: 1\n",
      " OK Получено: 444 Ожидалось: 444\n"
     ]
    }
   ],
   "source": [
    "test(invert(5, 1), 7);\n",
    "test(invert(5, 2), 1);\n",
    "test(invert(412, 5), 444);"
   ]
  },
  {
   "cell_type": "markdown",
   "id": "83b787f5",
   "metadata": {},
   "source": [
    "### C. nosum"
   ]
  },
  {
   "cell_type": "markdown",
   "id": "9dbc968f",
   "metadata": {},
   "source": [
    "Найдите сумму двух различных степеней числа 2, используя только битовые операции. В частности нельзя использовать операцию сложения и возведение в степень.\n",
    "\n",
    "Входные параметры  \n",
    "Даны два неравных числа: $n$ и $m$, не превосходящие 31.\n",
    "\n",
    "Выходные параметры  \n",
    "Верните значение суммы $2^n+2^m$."
   ]
  },
  {
   "cell_type": "code",
   "execution_count": 5,
   "id": "51ffacfc",
   "metadata": {},
   "outputs": [],
   "source": [
    "int nosum(int n, int m){\n",
    "    return 0;\n",
    "}"
   ]
  },
  {
   "cell_type": "code",
   "execution_count": null,
   "id": "8b98e71a",
   "metadata": {
    "scrolled": true
   },
   "outputs": [],
   "source": [
    "test(nosum(0, 1), 3)\n",
    "test(nosum(0, 2), 5)\n",
    "test(nosum(3, 7), 136)"
   ]
  },
  {
   "cell_type": "markdown",
   "id": "a55a8d71",
   "metadata": {},
   "source": [
    "### D. find_missing"
   ]
  },
  {
   "cell_type": "markdown",
   "id": "d084267d",
   "metadata": {},
   "source": [
    "Из целочисленного массива длиной N, содержащего все числа от 1 до N, убрали одно число. \n",
    "Найтите, какое."
   ]
  },
  {
   "cell_type": "code",
   "execution_count": 28,
   "id": "e08cdef8",
   "metadata": {},
   "outputs": [],
   "source": [
    "int find_missing(int *a, int k){\n",
    "    return 0;\n",
    "}"
   ]
  },
  {
   "cell_type": "code",
   "execution_count": null,
   "id": "5b292461",
   "metadata": {},
   "outputs": [],
   "source": [
    "int a1[] = {2,3,4};\n",
    "test(find_missing(a1, 3), 1);\n",
    "\n",
    "int a2[] = {1,3,4};\n",
    "test(find_missing(a2, 3), 2);\n",
    "\n",
    "int a3[] = {1,2,3};\n",
    "test(find_missing(a3, 3), 4);"
   ]
  },
  {
   "cell_type": "markdown",
   "id": "27d06cb3",
   "metadata": {},
   "source": [
    "### E. find_missing2"
   ]
  },
  {
   "cell_type": "markdown",
   "id": "2cc2433f",
   "metadata": {},
   "source": [
    "Из целочисленного массива длиной N, содержащего все числа от 1 до N, убрали два числа. \n",
    "Найтите, какие.\n",
    "\n",
    "Функция принимает на вход указатель на первый элемент массива, размер массива и указатель на массив из двух элементов result,\n",
    "куда нужно занести результат вычислений так, что `result[0] < result[1]`."
   ]
  },
  {
   "cell_type": "code",
   "execution_count": 47,
   "id": "713118ce",
   "metadata": {},
   "outputs": [],
   "source": [
    "void find_missing2(int *a, int k, int *result){\n",
    "    return 0;\n",
    "}"
   ]
  },
  {
   "cell_type": "code",
   "execution_count": null,
   "id": "a0732280",
   "metadata": {},
   "outputs": [],
   "source": [
    "int result[2];\n",
    "\n",
    "int a1[] = {1,4,5};\n",
    "find_missing2(a1, 3, result);\n",
    "test(result[0], 2);\n",
    "test(result[1], 3);\n",
    "\n",
    "int a2[] = {2,3,4};\n",
    "find_missing2(a2, 3, result);\n",
    "test(result[0], 1);\n",
    "test(result[1], 5);\n",
    "\n",
    "int a3[] = {1,3,5};\n",
    "find_missing2(a3, 3, result);\n",
    "test(result[0], 2);\n",
    "test(result[1], 4);"
   ]
  }
 ],
 "metadata": {
  "kernelspec": {
   "display_name": "C++11",
   "language": "C++11",
   "name": "xcpp11"
  },
  "language_info": {
   "codemirror_mode": "text/x-c++src",
   "file_extension": ".cpp",
   "mimetype": "text/x-c++src",
   "name": "c++",
   "version": "11"
  }
 },
 "nbformat": 4,
 "nbformat_minor": 5
}
