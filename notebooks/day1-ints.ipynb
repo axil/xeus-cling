{
 "cells": [
  {
   "cell_type": "markdown",
   "id": "7ac27cf7",
   "metadata": {},
   "source": [
    "### Работа в jupyter notebook с ядром xeus-cling"
   ]
  },
  {
   "cell_type": "code",
   "execution_count": 23,
   "id": "d060e353",
   "metadata": {},
   "outputs": [
    {
     "data": {
      "text/plain": [
       "4"
      ]
     },
     "execution_count": 23,
     "metadata": {},
     "output_type": "execute_result"
    }
   ],
   "source": [
    "2+2"
   ]
  },
  {
   "cell_type": "markdown",
   "id": "a0c87cda",
   "metadata": {},
   "source": [
    "jupyter выводит результат вычисления последнего выражения в ячейке,  \n",
    "в случае если оно не заканчивается на точку с зяпятой:"
   ]
  },
  {
   "cell_type": "code",
   "execution_count": 48,
   "id": "12a2e6d1",
   "metadata": {},
   "outputs": [
    {
     "data": {
      "text/plain": [
       "6"
      ]
     },
     "execution_count": 48,
     "metadata": {},
     "output_type": "execute_result"
    }
   ],
   "source": [
    "2+2;\n",
    "3+3"
   ]
  },
  {
   "cell_type": "markdown",
   "id": "d265187a",
   "metadata": {},
   "source": [
    "Если заканчивается - ничего не выводит:"
   ]
  },
  {
   "cell_type": "code",
   "execution_count": 49,
   "id": "10a543ae",
   "metadata": {},
   "outputs": [],
   "source": [
    "2+2;\n",
    "3+3;"
   ]
  },
  {
   "cell_type": "markdown",
   "id": "2e7ac38c",
   "metadata": {},
   "source": [
    "Когда определяете переменные, надо указывать их тип:"
   ]
  },
  {
   "cell_type": "code",
   "execution_count": 1,
   "id": "a42b1bb4",
   "metadata": {},
   "outputs": [],
   "source": [
    "int a, b;"
   ]
  },
  {
   "cell_type": "markdown",
   "id": "d5824bef",
   "metadata": {},
   "source": [
    "Значения переменных хранятся в памяти между выполнением ячеек, как в python:"
   ]
  },
  {
   "cell_type": "code",
   "execution_count": 2,
   "id": "6bf5d70e",
   "metadata": {},
   "outputs": [],
   "source": [
    "a = 5; b = 10;"
   ]
  },
  {
   "cell_type": "code",
   "execution_count": 3,
   "id": "62e930e6",
   "metadata": {},
   "outputs": [
    {
     "data": {
      "text/plain": [
       "15"
      ]
     },
     "execution_count": 3,
     "metadata": {},
     "output_type": "execute_result"
    }
   ],
   "source": [
    "a + b"
   ]
  },
  {
   "cell_type": "markdown",
   "id": "eba6a869",
   "metadata": {},
   "source": [
    "Вместо типа переменной можно писать auto, если он однозначно определяется из начального значения:"
   ]
  },
  {
   "cell_type": "code",
   "execution_count": 43,
   "id": "2c60aac3",
   "metadata": {},
   "outputs": [],
   "source": [
    "auto c=10;"
   ]
  },
  {
   "cell_type": "code",
   "execution_count": 44,
   "id": "dcf47c6f",
   "metadata": {},
   "outputs": [
    {
     "data": {
      "text/plain": [
       "20"
      ]
     },
     "execution_count": 44,
     "metadata": {},
     "output_type": "execute_result"
    }
   ],
   "source": [
    "c*2"
   ]
  },
  {
   "cell_type": "markdown",
   "id": "252380ee",
   "metadata": {},
   "source": [
    "### Тестовая функция"
   ]
  },
  {
   "cell_type": "code",
   "execution_count": 1,
   "id": "82b5edb1",
   "metadata": {},
   "outputs": [],
   "source": [
    "#include <iostream>\n",
    "\n",
    "using namespace std;"
   ]
  },
  {
   "cell_type": "markdown",
   "id": "37537880",
   "metadata": {},
   "source": [
    "Обычная тестовая функция, как в python:"
   ]
  },
  {
   "cell_type": "code",
   "execution_count": 2,
   "id": "429223ca",
   "metadata": {},
   "outputs": [],
   "source": [
    "void test(int a, int b){\n",
    "    if(a==b)\n",
    "        cout << \" OK \";\n",
    "    else\n",
    "        cout << \"  X \";\n",
    "    cout << \"Получено: \" << a << \" Ожидалось: \" << b << \"\\n\";\n",
    "}"
   ]
  },
  {
   "cell_type": "code",
   "execution_count": 3,
   "id": "9b35e2a1",
   "metadata": {},
   "outputs": [
    {
     "name": "stdout",
     "output_type": "stream",
     "text": [
      " OK Получено: 4 Ожидалось: 4\n"
     ]
    }
   ],
   "source": [
    "test(2*2, 4)"
   ]
  },
  {
   "cell_type": "code",
   "execution_count": 4,
   "id": "b7f7f5a0",
   "metadata": {},
   "outputs": [
    {
     "name": "stdout",
     "output_type": "stream",
     "text": [
      "  X Получено: 4 Ожидалось: 5\n"
     ]
    }
   ],
   "source": [
    "test(2*2, 5)"
   ]
  },
  {
   "cell_type": "markdown",
   "id": "1630cca2",
   "metadata": {},
   "source": [
    "### А. Число десятков"
   ]
  },
  {
   "cell_type": "markdown",
   "id": "fed5507f",
   "metadata": {},
   "source": [
    "Дано натуральное число (не больше $10^6$). Найдите число десятков в его десятичной записи."
   ]
  },
  {
   "cell_type": "code",
   "execution_count": null,
   "id": "4853885d",
   "metadata": {
    "scrolled": true
   },
   "outputs": [],
   "source": [
    "int tens(int x){\n",
    "    return 0;\n",
    "}"
   ]
  },
  {
   "cell_type": "code",
   "execution_count": null,
   "id": "00ac79dc",
   "metadata": {
    "scrolled": true
   },
   "outputs": [],
   "source": [
    "test(tens(1), 0);\n",
    "test(tens(42), 4);\n",
    "test(tens(123), 2);\n",
    "test(tens(1234), 3);\n",
    "test(tens(12345), 4);\n",
    "test(tens(123456), 5);"
   ]
  },
  {
   "cell_type": "markdown",
   "id": "65911d8b",
   "metadata": {},
   "source": [
    "### B. Следующее чётное"
   ]
  },
  {
   "cell_type": "markdown",
   "id": "b1624649",
   "metadata": {},
   "source": [
    "Дано целое положительное число n, не превышающее 1000. Выведите следующее за ним четное число.\n",
    "\n",
    "Задачу необходимо решить целочисленными операциями без использования условных операторов (то есть if, for и тп).\n",
    "\n",
    "Дополнительно: можно решить без использования условных операторов, деления, умножения, остатка от деления, без библиотеки cmath."
   ]
  },
  {
   "cell_type": "code",
   "execution_count": null,
   "id": "79640e07",
   "metadata": {
    "scrolled": true
   },
   "outputs": [],
   "source": [
    "int next_even(int x){\n",
    "    return 0;\n",
    "}"
   ]
  },
  {
   "cell_type": "code",
   "execution_count": null,
   "id": "5c270658",
   "metadata": {
    "scrolled": true
   },
   "outputs": [],
   "source": [
    "test(next_even(1), 2);\n",
    "test(next_even(2), 4);\n",
    "test(next_even(123), 124);\n",
    "test(next_even(123), 124);\n",
    "test(next_even(1000), 1002);"
   ]
  },
  {
   "cell_type": "markdown",
   "id": "f3bff4f0",
   "metadata": {},
   "source": [
    "### C. Дележ яблок!"
   ]
  },
  {
   "cell_type": "markdown",
   "id": "2a886842",
   "metadata": {},
   "source": [
    "n школьников делят k яблок “поровну”, то есть так, чтобы количество яблок, доставшихся  \n",
    "любым двум школьникам, отличалось бы не более, чем на 1.\n",
    "\n",
    "Функция должна вернуть количество школьников, которым достанется яблок меньше, чем  \n",
    "некоторым из их товарищей.\n",
    "\n",
    "Дополнительно: можно решить без условных операторов, библиотеки cmath."
   ]
  },
  {
   "cell_type": "code",
   "execution_count": null,
   "id": "70f5c477",
   "metadata": {
    "scrolled": true
   },
   "outputs": [],
   "source": [
    "int distrib(int n, int k){\n",
    "    return 0;\n",
    "}"
   ]
  },
  {
   "cell_type": "code",
   "execution_count": null,
   "id": "80a52202",
   "metadata": {
    "scrolled": true
   },
   "outputs": [],
   "source": [
    "test(distrib(7, 30), 5);\n",
    "test(distrib(7, 28), 0);\n",
    "test(distrib(5, 5), 0);"
   ]
  },
  {
   "cell_type": "code",
   "execution_count": null,
   "id": "45e081cc",
   "metadata": {
    "scrolled": true
   },
   "outputs": [],
   "source": [
    "test(distrib(3, 6), 0);\n",
    "test(distrib(4, 6), 2);\n",
    "test(distrib(1, 100), 0);\n",
    "test(distrib(100, 1), 99);\n",
    "test(distrib(43, 864), 39);\n",
    "test(distrib(1000, 1001), 999);"
   ]
  },
  {
   "cell_type": "markdown",
   "id": "b194b6e8",
   "metadata": {},
   "source": [
    "### D. Улица"
   ]
  },
  {
   "attachments": {
    "image.png": {
     "image/png": "[encoded data removed]"
    }
   },
   "cell_type": "markdown",
   "id": "980e9d28",
   "metadata": {},
   "source": [
    "По одну сторону улицы находятся дома с нечётными номерами (1, 3, 5, …), по другую сторону – с чётными (2, 4, 6, …). Дом № 1 находится напротив дома № 2, дом № 3 – напротив дома № 4 и т. д. До соседнего дома нужно идти вдоль по улице одну минуту, неважно, с какой стороны улицы он находится (то есть от дома № 1 нужно идти одну минуту как до дома № 3, так и до дома № 4). До дома, стоящего напротив, идти не нужно.  \n",
    "\n",
    "![image.png](attachment:image.png)\n",
    "\n",
    "Человек вышел на улицу из дома номер A и должен дойти до дома номер B. Определите, сколько минут ему нужно идти вдоль по улице.\n",
    "\n",
    "Функция получает на вход два различных целых положительных числа A и B, не превосходящие $2×10^9$, – номера домов.\n",
    "\n",
    "Возвращает целое число – число минут."
   ]
  },
  {
   "cell_type": "code",
   "execution_count": null,
   "id": "d3de7811",
   "metadata": {
    "scrolled": true
   },
   "outputs": [],
   "source": [
    "int walk(int A, int B){\n",
    "    return 0;\n",
    "}"
   ]
  },
  {
   "cell_type": "markdown",
   "id": "c71641bd",
   "metadata": {},
   "source": [
    "\"Открытый\" тест:"
   ]
  },
  {
   "cell_type": "code",
   "execution_count": null,
   "id": "8ae695b3",
   "metadata": {
    "scrolled": true
   },
   "outputs": [],
   "source": [
    "test(walk(1, 8), 3);"
   ]
  },
  {
   "cell_type": "markdown",
   "id": "74a1c80e",
   "metadata": {},
   "source": [
    "\"Закрытые\" тесты:"
   ]
  },
  {
   "cell_type": "code",
   "execution_count": null,
   "id": "a6ba3d54",
   "metadata": {
    "scrolled": true
   },
   "outputs": [],
   "source": [
    "test(walk(1, 2), 0);\n",
    "test(walk(2, 1), 0);\n",
    "test(walk(1, 3), 1);\n",
    "test(walk(3, 1), 1);\n",
    "test(walk(2, 5), 2);\n",
    "test(walk(5, 2), 2);\n",
    "test(walk(12231414, 25346345), 6557466);"
   ]
  },
  {
   "cell_type": "markdown",
   "id": "942fa062",
   "metadata": {},
   "source": [
    "### E. Чётные - нечётные"
   ]
  },
  {
   "cell_type": "markdown",
   "id": "0a67ada8",
   "metadata": {},
   "source": [
    "Маша любит чётные числа, а Миша – нечётные. Поэтому они всегда радуются, если встречают числа,  \n",
    "которые им нравятся.\n",
    "\n",
    "Сегодня им встретились все целые числа от A до B включительно. Маша решила посчитать сумму  \n",
    "всех чётных чисел от A до B, а Миша – сумму всех нечётных, после чего они начали спорить,  \n",
    "у кого получилась сумма больше. Помогите им – найдите разность между суммой Маши и суммой Миши."
   ]
  },
  {
   "cell_type": "markdown",
   "id": "f8fddfc5",
   "metadata": {},
   "source": [
    "Фунция получает на вход два целых положительных числа A и B, не превосходящие $2×10^9$.  \n",
    "Возвращает одно челое число – разность между суммой чётных чисел и суммой нечётных чисел от A до B."
   ]
  },
  {
   "cell_type": "code",
   "execution_count": null,
   "id": "bcd93816",
   "metadata": {
    "scrolled": true
   },
   "outputs": [],
   "source": [
    "int odd_even(int A, int B){\n",
    "    return 0;\n",
    "}"
   ]
  },
  {
   "cell_type": "code",
   "execution_count": null,
   "id": "90870fd4",
   "metadata": {
    "scrolled": true
   },
   "outputs": [],
   "source": [
    "test(odd_even(3, 6), 2);\n",
    "test(odd_even(3, 7), -5);"
   ]
  },
  {
   "cell_type": "markdown",
   "id": "64e88045",
   "metadata": {},
   "source": [
    "### F. Метро"
   ]
  },
  {
   "cell_type": "markdown",
   "id": "064928a2",
   "metadata": {},
   "source": [
    "Есть три вида билетов на метро. Билет:  \n",
    "&nbsp; &nbsp; – на 1 поездку стоит 15 рублей,  \n",
    "&nbsp; &nbsp; – на 10 поездок стоит 125 рублей,  \n",
    "&nbsp; &nbsp; – на 60 поездок стоит 440 рублей. \n",
    "\n",
    "Пассажир планирует совершить n поездок. Определите, сколько билетов каждого вида он должен  \n",
    "приобрести, чтобы суммарное количество оплаченных поездок было не меньше n, а общая стоимость  \n",
    "приобретенных билетов – минимальна."
   ]
  },
  {
   "cell_type": "code",
   "execution_count": null,
   "id": "ce324b79",
   "metadata": {
    "scrolled": true
   },
   "outputs": [],
   "source": [
    "int metro(int n){\n",
    "    return 0;\n",
    "}"
   ]
  },
  {
   "cell_type": "markdown",
   "id": "fdcf4fed",
   "metadata": {},
   "source": [
    "\"Открытые\" тесты:"
   ]
  },
  {
   "cell_type": "code",
   "execution_count": null,
   "id": "0a181786",
   "metadata": {
    "scrolled": true
   },
   "outputs": [],
   "source": [
    "test(metro(1), 15);\n",
    "test(metro(2), 30);\n",
    "test(metro(3), 45);"
   ]
  },
  {
   "cell_type": "markdown",
   "id": "28388b93",
   "metadata": {},
   "source": [
    "\"Закрытые\" тесты:"
   ]
  },
  {
   "cell_type": "code",
   "execution_count": null,
   "id": "8c631183",
   "metadata": {
    "scrolled": true
   },
   "outputs": [],
   "source": [
    "test(metro(10), 125);\n",
    "test(metro(11), 140);\n",
    "test(metro(40), 440);\n",
    "test(metro(60), 440);\n",
    "test(metro(61), 455);"
   ]
  }
 ],
 "metadata": {
  "kernelspec": {
   "display_name": "C++17",
   "language": "C++17",
   "name": "xcpp17"
  },
  "language_info": {
   "codemirror_mode": "text/x-c++src",
   "file_extension": ".cpp",
   "mimetype": "text/x-c++src",
   "name": "c++",
   "version": "17"
  },
  "toc": {
   "base_numbering": 1,
   "nav_menu": {},
   "number_sections": true,
   "sideBar": true,
   "skip_h1_title": false,
   "title_cell": "Table of Contents",
   "title_sidebar": "Contents",
   "toc_cell": false,
   "toc_position": {},
   "toc_section_display": true,
   "toc_window_display": false
  }
 },
 "nbformat": 4,
 "nbformat_minor": 5
}
