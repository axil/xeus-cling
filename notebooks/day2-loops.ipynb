{
 "cells": [
  {
   "cell_type": "markdown",
   "id": "c5461a57",
   "metadata": {},
   "source": [
    "Выполните следующую ячейку (Shift-Enter) перед выполнением задания."
   ]
  },
  {
   "cell_type": "code",
   "execution_count": 12,
   "id": "cde6f0dd",
   "metadata": {},
   "outputs": [],
   "source": [
    "#include <stdio.h>\n",
    "\n",
    "void test(int a, int b){\n",
    "    if(a==b)\n",
    "        printf(\" OK \");\n",
    "    else\n",
    "        printf(\"  X \");\n",
    "    printf(\"Получено: %d Ожидалось: %d\\n\", a, b);\n",
    "}"
   ]
  },
  {
   "cell_type": "markdown",
   "id": "da045705",
   "metadata": {},
   "source": [
    "### Сумма элементов массива"
   ]
  },
  {
   "cell_type": "markdown",
   "id": "21c5a616",
   "metadata": {},
   "source": [
    "Напишите функцию, которая находила бы сумму элементов в целочисленном массиве.\n",
    "\n",
    "Функция должна принимать два аргумента: указатель на первый элемент массива `a` и длину массива `n`.  \n",
    "Возвращать максимальынй элемент в массиве.\n",
    "\n",
    "Гарантируется, что `a != NULL и n > 0`."
   ]
  },
  {
   "cell_type": "code",
   "execution_count": 43,
   "id": "c63768c3",
   "metadata": {},
   "outputs": [],
   "source": [
    "int a[] = {5, 7, 6};"
   ]
  },
  {
   "cell_type": "code",
   "execution_count": 44,
   "id": "f84f40e0",
   "metadata": {},
   "outputs": [
    {
     "data": {
      "text/plain": [
       "3"
      ]
     },
     "execution_count": 44,
     "metadata": {},
     "output_type": "execute_result"
    }
   ],
   "source": [
    "int n = sizeof(a)/sizeof(a[0]);\n",
    "n"
   ]
  },
  {
   "cell_type": "markdown",
   "id": "bf40ae4a",
   "metadata": {},
   "source": [
    "Сначала пишем без функции, отлаживаем:"
   ]
  },
  {
   "cell_type": "code",
   "execution_count": 45,
   "id": "ebcfbceb",
   "metadata": {},
   "outputs": [
    {
     "data": {
      "text/plain": [
       "18"
      ]
     },
     "execution_count": 45,
     "metadata": {},
     "output_type": "execute_result"
    }
   ],
   "source": [
    "int s = 0;\n",
    "for (int i=0; i<n; i++){\n",
    "    s += a[i];\n",
    "} \n",
    "s"
   ]
  },
  {
   "cell_type": "markdown",
   "id": "273b442e",
   "metadata": {},
   "source": [
    "Потом заворачиваем в функцию для тестирования:"
   ]
  },
  {
   "cell_type": "code",
   "execution_count": 4,
   "id": "1606cbc5",
   "metadata": {},
   "outputs": [],
   "source": [
    "int sum(int* a, int n){\n",
    "    int s = 0;\n",
    "    for (int i=0; i<n; i++){\n",
    "        s += a[i];\n",
    "    } \n",
    "    return s;\n",
    "}"
   ]
  },
  {
   "cell_type": "markdown",
   "id": "c4e78e64",
   "metadata": {},
   "source": [
    "Тесты:"
   ]
  },
  {
   "cell_type": "code",
   "execution_count": 11,
   "id": "d050b141",
   "metadata": {},
   "outputs": [
    {
     "name": "stdout",
     "output_type": "stream",
     "text": [
      " OK Получено: 7 Ожидалось: 7\n",
      " OK Получено: 11 Ожидалось: 11\n",
      " OK Получено: 16 Ожидалось: 16\n"
     ]
    }
   ],
   "source": [
    "int a1[] = {7};\n",
    "test(sum(a1, 1), 7);\n",
    "\n",
    "int a2[] = {7,4};\n",
    "test(sum(a2, 2), 11);\n",
    "\n",
    "int a3[] = {7,4,5};\n",
    "test(sum(a3, 4), 16);"
   ]
  },
  {
   "cell_type": "markdown",
   "id": "ee1643e2",
   "metadata": {},
   "source": [
    "### A. max1"
   ]
  },
  {
   "cell_type": "markdown",
   "id": "7d8f77b3",
   "metadata": {},
   "source": [
    "Напишите функцию, которая находила бы максимум в целочисленном массиве.\n",
    "\n",
    "Функция должна принимать два аргумента: указатель на первый элемент массива `a` и длину массива `n`.  \n",
    "Возвращать максимальынй элемент в массиве.\n",
    "\n",
    "Гарантируется, что `a != null и n > 0`."
   ]
  },
  {
   "cell_type": "code",
   "execution_count": 59,
   "id": "23afa38c",
   "metadata": {},
   "outputs": [],
   "source": [
    "int max1(int* a, int n){\n",
    "    return 0;\n",
    "}"
   ]
  },
  {
   "cell_type": "code",
   "execution_count": null,
   "id": "448ecd20",
   "metadata": {
    "scrolled": true
   },
   "outputs": [],
   "source": [
    "int a1[] = {7,4,9,3};\n",
    "test(max1(a1, 4), 9);\n",
    "\n",
    "int a2[] = {7,4,2,3};\n",
    "test(max1(a2, 4), 7);\n",
    "\n",
    "int a3[] = {7,4,2,8};\n",
    "test(max1(a3, 4), 8);"
   ]
  },
  {
   "cell_type": "markdown",
   "id": "98344d00",
   "metadata": {},
   "source": [
    "### B. max2"
   ]
  },
  {
   "cell_type": "markdown",
   "id": "db54afd5",
   "metadata": {},
   "source": [
    "Найдите второй максимальный элемент в векторе (то есть тот, который станет максимальным, если удалить максимум)."
   ]
  },
  {
   "cell_type": "code",
   "execution_count": 62,
   "id": "e9e7c6c7",
   "metadata": {},
   "outputs": [],
   "source": [
    "int max2(int *a, int n){\n",
    "    return 0;\n",
    "}"
   ]
  },
  {
   "cell_type": "code",
   "execution_count": null,
   "id": "aebd9ba7",
   "metadata": {},
   "outputs": [],
   "source": [
    "int a1[] = {7,4,9,3};\n",
    "test(max2(a1, 4), 7);\n",
    "\n",
    "int a2[] = {7,4,2,3};\n",
    "test(max2(a2, 4), 4);\n",
    "\n",
    "int a3[] = {7,4,2,8};\n",
    "test(max2(a3, 4), 7);"
   ]
  },
  {
   "cell_type": "markdown",
   "id": "1becbd78",
   "metadata": {},
   "source": [
    "### C. product"
   ]
  },
  {
   "cell_type": "markdown",
   "id": "ad664712",
   "metadata": {},
   "source": [
    "Дано натуральное число N. Требуется написать программу, которая находит такое минимальное число M >= 10, произведение цифр которого равно N. Если такого числа нет, нужно вернуть -1."
   ]
  },
  {
   "cell_type": "markdown",
   "id": "8f3835e2",
   "metadata": {},
   "source": [
    "Ограничения: $1 ≤ N ≤ 2*10^6$."
   ]
  },
  {
   "cell_type": "code",
   "execution_count": 139,
   "id": "d75746c6",
   "metadata": {},
   "outputs": [],
   "source": [
    "int product(int n){\n",
    "    return 0;\n",
    "}"
   ]
  },
  {
   "cell_type": "code",
   "execution_count": null,
   "id": "ffd66874",
   "metadata": {},
   "outputs": [],
   "source": [
    "test(product(5), 15);\n",
    "test(product(1), 11);\n",
    "test(product(24), 38);\n",
    "test(product(85), -1);"
   ]
  },
  {
   "cell_type": "markdown",
   "id": "43e9e3e4",
   "metadata": {},
   "source": [
    "### D. squares"
   ]
  },
  {
   "cell_type": "markdown",
   "id": "84a33471",
   "metadata": {},
   "source": [
    "В параде принимают участие M военных. Командование парада решило, что наиболее эффектное построение военных – в форме квадрата, то есть число участников построения должно быть точным квадратом. Но поскольку число M может не быть точным квадратом, разрешается разбить военных на несколько полков, каждый из которых строится в форме квадрата. Для красоты все полки должны быть одинакового размера, также командование парада хочет, чтобы размер каждого полка был как можно больше. Определите максимально возможный размер полка."
   ]
  },
  {
   "cell_type": "markdown",
   "id": "3d6addcf",
   "metadata": {},
   "source": [
    "Функция принимает целое M, не превосходящее $2×10^9$, – количество участников парад. Возвращает максимальный размер полка."
   ]
  },
  {
   "cell_type": "code",
   "execution_count": 143,
   "id": "5e14caa4",
   "metadata": {},
   "outputs": [],
   "source": [
    "#include <cmath>"
   ]
  },
  {
   "cell_type": "code",
   "execution_count": 144,
   "id": "eb42c632",
   "metadata": {},
   "outputs": [
    {
     "data": {
      "text/plain": [
       "3.0000000"
      ]
     },
     "execution_count": 144,
     "metadata": {},
     "output_type": "execute_result"
    }
   ],
   "source": [
    "sqrt(9)"
   ]
  },
  {
   "cell_type": "code",
   "execution_count": 149,
   "id": "5b2f5d4b",
   "metadata": {},
   "outputs": [],
   "source": [
    "int squares(int M){\n",
    "    return 0;\n",
    "}"
   ]
  },
  {
   "cell_type": "code",
   "execution_count": null,
   "id": "896f0ab6",
   "metadata": {},
   "outputs": [],
   "source": [
    "test(squares(16), 16);\n",
    "test(squares(32), 16);\n",
    "test(squares(180), 36);"
   ]
  }
 ],
 "metadata": {
  "kernelspec": {
   "display_name": "C++11",
   "language": "C++11",
   "name": "xcpp11"
  },
  "language_info": {
   "codemirror_mode": "text/x-c++src",
   "file_extension": ".cpp",
   "mimetype": "text/x-c++src",
   "name": "c++",
   "version": "11"
  }
 },
 "nbformat": 4,
 "nbformat_minor": 5
}
